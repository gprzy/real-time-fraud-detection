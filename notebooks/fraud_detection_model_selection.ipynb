{
 "cells": [
  {
   "cell_type": "markdown",
   "metadata": {},
   "source": [
    "# Seleção de Modelos: Avaliação e Validação"
   ]
  },
  {
   "cell_type": "code",
   "execution_count": 186,
   "metadata": {},
   "outputs": [],
   "source": [
    "import os\n",
    "import joblib\n",
    "import pandas as pd\n",
    "from dotenv import load_dotenv\n",
    "from sklearn.model_selection import StratifiedKFold\n",
    "from sklearn.discriminant_analysis import QuadraticDiscriminantAnalysis\n",
    "from sklearn.naive_bayes import GaussianNB\n",
    "from sklearn.ensemble import RandomForestClassifier\n",
    "from xgboost import XGBClassifier \n",
    "from sklearn.metrics import classification_report"
   ]
  },
  {
   "cell_type": "code",
   "execution_count": 187,
   "metadata": {},
   "outputs": [
    {
     "name": "stdout",
     "output_type": "stream",
     "text": [
      "../data/processed/\n",
      "42\n"
     ]
    }
   ],
   "source": [
    "load_dotenv()\n",
    "random_state = int(os.environ['SKLEARN_RANDOM_STATE'])\n",
    "\n",
    "print(os.environ['NOTEBOOKS_PROCESSED_DATA_PATH'])\n",
    "print(os.environ['SKLEARN_RANDOM_STATE'])"
   ]
  },
  {
   "cell_type": "markdown",
   "metadata": {},
   "source": [
    "## Carregando os dados"
   ]
  },
  {
   "cell_type": "code",
   "execution_count": 6,
   "metadata": {},
   "outputs": [
    {
     "data": {
      "text/plain": [
       "(227845, 31)"
      ]
     },
     "execution_count": 6,
     "metadata": {},
     "output_type": "execute_result"
    }
   ],
   "source": [
    "df = pd.read_parquet(\n",
    "    os.environ['NOTEBOOKS_PROCESSED_DATA_PATH'] + \\\n",
    "        'creditcard_train.parquet'\n",
    ")\n",
    "\n",
    "df.shape"
   ]
  },
  {
   "cell_type": "code",
   "execution_count": 8,
   "metadata": {},
   "outputs": [
    {
     "data": {
      "text/plain": [
       "((227845, 30), (227845,))"
      ]
     },
     "execution_count": 8,
     "metadata": {},
     "output_type": "execute_result"
    }
   ],
   "source": [
    "X = df.drop('Fraude', axis=1).values\n",
    "y = df['Fraude'].values\n",
    "\n",
    "X.shape, y.shape"
   ]
  },
  {
   "cell_type": "markdown",
   "metadata": {},
   "source": [
    "## Balanceamento de classes"
   ]
  },
  {
   "cell_type": "markdown",
   "metadata": {},
   "source": [
    "## Normalização"
   ]
  },
  {
   "cell_type": "markdown",
   "metadata": {},
   "source": [
    "## Selecionando os modelos com validação cruzada"
   ]
  },
  {
   "cell_type": "code",
   "execution_count": 129,
   "metadata": {},
   "outputs": [],
   "source": [
    "models = {\n",
    "    'qda': QuadraticDiscriminantAnalysis(),\n",
    "    'gnb': GaussianNB(),\n",
    "    'xgb': XGBClassifier(random_state=random_state),\n",
    "    'rf': RandomForestClassifier(random_state=random_state)\n",
    "}"
   ]
  },
  {
   "cell_type": "code",
   "execution_count": 130,
   "metadata": {},
   "outputs": [],
   "source": [
    "kfold = StratifiedKFold(n_splits=5)"
   ]
  },
  {
   "cell_type": "code",
   "execution_count": 55,
   "metadata": {},
   "outputs": [
    {
     "name": "stdout",
     "output_type": "stream",
     "text": [
      "Wall time: 14min 47s\n"
     ]
    }
   ],
   "source": [
    "%%time\n",
    "\n",
    "reports = []\n",
    "\n",
    "for model_name, model in models.items():\n",
    "    report = []\n",
    "    for i, (train_index, val_index) in enumerate(kfold.split(X, y)):\n",
    "        model.fit(X[train_index], y[train_index])\n",
    "        y_pred = model.predict(X[val_index])\n",
    "\n",
    "        partial_report = classification_report(\n",
    "            y[val_index],\n",
    "            y_pred,\n",
    "            output_dict=True\n",
    "        )\n",
    "\n",
    "        partial_report = pd.DataFrame(partial_report)\n",
    "        report.append(partial_report)\n",
    "\n",
    "    report = sum(report) / len(report)\n",
    "    reports.append(report)\n",
    "    reports = pd.concat(reports)"
   ]
  },
  {
   "cell_type": "code",
   "execution_count": 128,
   "metadata": {},
   "outputs": [
    {
     "data": {
      "text/html": [
       "<div>\n",
       "<style scoped>\n",
       "    .dataframe tbody tr th:only-of-type {\n",
       "        vertical-align: middle;\n",
       "    }\n",
       "\n",
       "    .dataframe tbody tr th {\n",
       "        vertical-align: top;\n",
       "    }\n",
       "\n",
       "    .dataframe thead th {\n",
       "        text-align: right;\n",
       "    }\n",
       "</style>\n",
       "<table border=\"1\" class=\"dataframe\">\n",
       "  <thead>\n",
       "    <tr style=\"text-align: right;\">\n",
       "      <th></th>\n",
       "      <th></th>\n",
       "      <th>0</th>\n",
       "      <th>1</th>\n",
       "      <th>accuracy</th>\n",
       "      <th>macro avg</th>\n",
       "      <th>weighted avg</th>\n",
       "    </tr>\n",
       "    <tr>\n",
       "      <th>model</th>\n",
       "      <th>metric</th>\n",
       "      <th></th>\n",
       "      <th></th>\n",
       "      <th></th>\n",
       "      <th></th>\n",
       "      <th></th>\n",
       "    </tr>\n",
       "  </thead>\n",
       "  <tbody>\n",
       "    <tr>\n",
       "      <th rowspan=\"4\" valign=\"top\">rf</th>\n",
       "      <th>precision</th>\n",
       "      <td>0.999925</td>\n",
       "      <td>0.778673</td>\n",
       "      <td>0.999535</td>\n",
       "      <td>0.889299</td>\n",
       "      <td>0.999535</td>\n",
       "    </tr>\n",
       "    <tr>\n",
       "      <th>recall</th>\n",
       "      <td>0.999767</td>\n",
       "      <td>0.854535</td>\n",
       "      <td>0.999535</td>\n",
       "      <td>0.927151</td>\n",
       "      <td>0.999511</td>\n",
       "    </tr>\n",
       "    <tr>\n",
       "      <th>f1-score</th>\n",
       "      <td>0.999609</td>\n",
       "      <td>0.947904</td>\n",
       "      <td>0.999535</td>\n",
       "      <td>0.973756</td>\n",
       "      <td>0.999518</td>\n",
       "    </tr>\n",
       "    <tr>\n",
       "      <th>support</th>\n",
       "      <td>45488.600000</td>\n",
       "      <td>80.400000</td>\n",
       "      <td>0.999535</td>\n",
       "      <td>45569.000000</td>\n",
       "      <td>45569.000000</td>\n",
       "    </tr>\n",
       "    <tr>\n",
       "      <th rowspan=\"4\" valign=\"top\">xgb</th>\n",
       "      <th>precision</th>\n",
       "      <td>0.999921</td>\n",
       "      <td>0.778704</td>\n",
       "      <td>0.999530</td>\n",
       "      <td>0.889312</td>\n",
       "      <td>0.999530</td>\n",
       "    </tr>\n",
       "    <tr>\n",
       "      <th>recall</th>\n",
       "      <td>0.999765</td>\n",
       "      <td>0.853402</td>\n",
       "      <td>0.999530</td>\n",
       "      <td>0.926584</td>\n",
       "      <td>0.999506</td>\n",
       "    </tr>\n",
       "    <tr>\n",
       "      <th>f1-score</th>\n",
       "      <td>0.999609</td>\n",
       "      <td>0.945437</td>\n",
       "      <td>0.999530</td>\n",
       "      <td>0.972523</td>\n",
       "      <td>0.999513</td>\n",
       "    </tr>\n",
       "    <tr>\n",
       "      <th>support</th>\n",
       "      <td>45488.600000</td>\n",
       "      <td>80.400000</td>\n",
       "      <td>0.999530</td>\n",
       "      <td>45569.000000</td>\n",
       "      <td>45569.000000</td>\n",
       "    </tr>\n",
       "    <tr>\n",
       "      <th rowspan=\"4\" valign=\"top\">gnb</th>\n",
       "      <th>precision</th>\n",
       "      <td>0.999363</td>\n",
       "      <td>0.146781</td>\n",
       "      <td>0.992719</td>\n",
       "      <td>0.573072</td>\n",
       "      <td>0.997859</td>\n",
       "    </tr>\n",
       "    <tr>\n",
       "      <th>recall</th>\n",
       "      <td>0.996342</td>\n",
       "      <td>0.238640</td>\n",
       "      <td>0.992719</td>\n",
       "      <td>0.617491</td>\n",
       "      <td>0.995005</td>\n",
       "    </tr>\n",
       "    <tr>\n",
       "      <th>f1-score</th>\n",
       "      <td>0.993339</td>\n",
       "      <td>0.641790</td>\n",
       "      <td>0.992719</td>\n",
       "      <td>0.817565</td>\n",
       "      <td>0.992719</td>\n",
       "    </tr>\n",
       "    <tr>\n",
       "      <th>support</th>\n",
       "      <td>45488.600000</td>\n",
       "      <td>80.400000</td>\n",
       "      <td>0.992719</td>\n",
       "      <td>45569.000000</td>\n",
       "      <td>45569.000000</td>\n",
       "    </tr>\n",
       "    <tr>\n",
       "      <th rowspan=\"4\" valign=\"top\">qda</th>\n",
       "      <th>precision</th>\n",
       "      <td>0.999770</td>\n",
       "      <td>0.059960</td>\n",
       "      <td>0.975602</td>\n",
       "      <td>0.529865</td>\n",
       "      <td>0.998112</td>\n",
       "    </tr>\n",
       "    <tr>\n",
       "      <th>recall</th>\n",
       "      <td>0.987630</td>\n",
       "      <td>0.112194</td>\n",
       "      <td>0.975602</td>\n",
       "      <td>0.549912</td>\n",
       "      <td>0.986086</td>\n",
       "    </tr>\n",
       "    <tr>\n",
       "      <th>f1-score</th>\n",
       "      <td>0.975783</td>\n",
       "      <td>0.873025</td>\n",
       "      <td>0.975602</td>\n",
       "      <td>0.924404</td>\n",
       "      <td>0.975602</td>\n",
       "    </tr>\n",
       "    <tr>\n",
       "      <th>support</th>\n",
       "      <td>45488.600000</td>\n",
       "      <td>80.400000</td>\n",
       "      <td>0.975602</td>\n",
       "      <td>45569.000000</td>\n",
       "      <td>45569.000000</td>\n",
       "    </tr>\n",
       "  </tbody>\n",
       "</table>\n",
       "</div>"
      ],
      "text/plain": [
       "                            0          1  accuracy     macro avg  weighted avg\n",
       "model metric                                                                  \n",
       "rf    precision      0.999925   0.778673  0.999535      0.889299      0.999535\n",
       "      recall         0.999767   0.854535  0.999535      0.927151      0.999511\n",
       "      f1-score       0.999609   0.947904  0.999535      0.973756      0.999518\n",
       "      support    45488.600000  80.400000  0.999535  45569.000000  45569.000000\n",
       "xgb   precision      0.999921   0.778704  0.999530      0.889312      0.999530\n",
       "      recall         0.999765   0.853402  0.999530      0.926584      0.999506\n",
       "      f1-score       0.999609   0.945437  0.999530      0.972523      0.999513\n",
       "      support    45488.600000  80.400000  0.999530  45569.000000  45569.000000\n",
       "gnb   precision      0.999363   0.146781  0.992719      0.573072      0.997859\n",
       "      recall         0.996342   0.238640  0.992719      0.617491      0.995005\n",
       "      f1-score       0.993339   0.641790  0.992719      0.817565      0.992719\n",
       "      support    45488.600000  80.400000  0.992719  45569.000000  45569.000000\n",
       "qda   precision      0.999770   0.059960  0.975602      0.529865      0.998112\n",
       "      recall         0.987630   0.112194  0.975602      0.549912      0.986086\n",
       "      f1-score       0.975783   0.873025  0.975602      0.924404      0.975602\n",
       "      support    45488.600000  80.400000  0.975602  45569.000000  45569.000000"
      ]
     },
     "execution_count": 128,
     "metadata": {},
     "output_type": "execute_result"
    }
   ],
   "source": [
    "index_tuples = [\n",
    "    [\n",
    "        (model_name, 'precision'),\n",
    "        (model_name, 'recall'),\n",
    "        (model_name, 'f1-score'),\n",
    "        (model_name, 'support')\n",
    "    ] for model_name in list(models.keys())\n",
    "]\n",
    "\n",
    "index_tuples = [index for level in index_tuples \\\n",
    "                      for index in level]\n",
    "\n",
    "index = pd.MultiIndex.from_tuples(\n",
    "    index_tuples,\n",
    "    names=['model', 'metric']\n",
    ")\n",
    "\n",
    "reports = reports.set_index(index)\n",
    "reports = reports.sort_values(by=['accuracy'], ascending=False)\n",
    "reports"
   ]
  },
  {
   "cell_type": "markdown",
   "metadata": {},
   "source": [
    "## Salvando o melhor modelo"
   ]
  },
  {
   "cell_type": "code",
   "execution_count": 190,
   "metadata": {},
   "outputs": [
    {
     "data": {
      "text/plain": [
       "['../models/xgb_fraud_detection_train.sav']"
      ]
     },
     "execution_count": 190,
     "metadata": {},
     "output_type": "execute_result"
    }
   ],
   "source": [
    "joblib.dump(\n",
    "    models['xgb'],\n",
    "    os.environ['NOTEBOOKS_MODELS_PATH'] + \\\n",
    "        'xgb_fraud_detection_train.sav'\n",
    ")"
   ]
  }
 ],
 "metadata": {
  "kernelspec": {
   "display_name": "Python 3",
   "language": "python",
   "name": "python3"
  },
  "language_info": {
   "codemirror_mode": {
    "name": "ipython",
    "version": 3
   },
   "file_extension": ".py",
   "mimetype": "text/x-python",
   "name": "python",
   "nbconvert_exporter": "python",
   "pygments_lexer": "ipython3",
   "version": "3.9.13"
  },
  "orig_nbformat": 4
 },
 "nbformat": 4,
 "nbformat_minor": 2
}
