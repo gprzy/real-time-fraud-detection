{
 "cells": [
  {
   "cell_type": "markdown",
   "metadata": {},
   "source": [
    "# Processamento de Dados"
   ]
  },
  {
   "cell_type": "code",
   "execution_count": 1,
   "metadata": {},
   "outputs": [],
   "source": [
    "import os\n",
    "import pandas as pd\n",
    "from dotenv import load_dotenv\n",
    "from sklearn.model_selection import train_test_split"
   ]
  },
  {
   "cell_type": "code",
   "execution_count": 2,
   "metadata": {},
   "outputs": [],
   "source": [
    "pd.set_option('display.max_rows', 500)"
   ]
  },
  {
   "cell_type": "code",
   "execution_count": 3,
   "metadata": {},
   "outputs": [
    {
     "name": "stdout",
     "output_type": "stream",
     "text": [
      "../data/raw/\n",
      "../data/processed/\n"
     ]
    }
   ],
   "source": [
    "load_dotenv()\n",
    "\n",
    "print(os.environ['NOTEBOOKS_RAW_DATA_PATH'])\n",
    "print(os.environ['NOTEBOOKS_PROCESSED_DATA_PATH'])"
   ]
  },
  {
   "cell_type": "markdown",
   "metadata": {},
   "source": [
    "## Carregando os dados"
   ]
  },
  {
   "cell_type": "code",
   "execution_count": 4,
   "metadata": {},
   "outputs": [
    {
     "name": "stdout",
     "output_type": "stream",
     "text": [
      "(284807, 31)\n",
      "8829017\n"
     ]
    }
   ],
   "source": [
    "df = pd.read_csv(\n",
    "    os.environ['NOTEBOOKS_RAW_DATA_PATH'] + \\\n",
    "        'creditcard.csv'\n",
    ")\n",
    "\n",
    "print(df.shape)\n",
    "print(df.size)"
   ]
  },
  {
   "cell_type": "code",
   "execution_count": 5,
   "metadata": {},
   "outputs": [],
   "source": [
    "df = df.rename(columns={\n",
    "    'Time': 'Tempo',\n",
    "    'Amount': 'Valor',\n",
    "    'Class': 'Fraude'\n",
    "})"
   ]
  },
  {
   "cell_type": "code",
   "execution_count": 6,
   "metadata": {},
   "outputs": [
    {
     "data": {
      "text/plain": [
       "Tempo     float64\n",
       "V1        float64\n",
       "V2        float64\n",
       "V3        float64\n",
       "V4        float64\n",
       "V5        float64\n",
       "V6        float64\n",
       "V7        float64\n",
       "V8        float64\n",
       "V9        float64\n",
       "V10       float64\n",
       "V11       float64\n",
       "V12       float64\n",
       "V13       float64\n",
       "V14       float64\n",
       "V15       float64\n",
       "V16       float64\n",
       "V17       float64\n",
       "V18       float64\n",
       "V19       float64\n",
       "V20       float64\n",
       "V21       float64\n",
       "V22       float64\n",
       "V23       float64\n",
       "V24       float64\n",
       "V25       float64\n",
       "V26       float64\n",
       "V27       float64\n",
       "V28       float64\n",
       "Valor     float64\n",
       "Fraude      int64\n",
       "dtype: object"
      ]
     },
     "execution_count": 6,
     "metadata": {},
     "output_type": "execute_result"
    }
   ],
   "source": [
    "df.dtypes"
   ]
  },
  {
   "cell_type": "markdown",
   "metadata": {},
   "source": [
    "## Separação em Treino e Teste"
   ]
  },
  {
   "cell_type": "code",
   "execution_count": 7,
   "metadata": {},
   "outputs": [],
   "source": [
    "df = df.sort_values(by='Tempo', ascending=True)"
   ]
  },
  {
   "cell_type": "code",
   "execution_count": 8,
   "metadata": {},
   "outputs": [
    {
     "data": {
      "text/plain": [
       "((227845, 31), (56962, 31))"
      ]
     },
     "execution_count": 8,
     "metadata": {},
     "output_type": "execute_result"
    }
   ],
   "source": [
    "df_train, df_test = train_test_split(\n",
    "    df,\n",
    "    test_size=.2,\n",
    "    shuffle=False\n",
    ")\n",
    "\n",
    "df_train.shape, df_test.shape"
   ]
  },
  {
   "cell_type": "code",
   "execution_count": 9,
   "metadata": {},
   "outputs": [
    {
     "data": {
      "text/html": [
       "<div>\n",
       "<style scoped>\n",
       "    .dataframe tbody tr th:only-of-type {\n",
       "        vertical-align: middle;\n",
       "    }\n",
       "\n",
       "    .dataframe tbody tr th {\n",
       "        vertical-align: top;\n",
       "    }\n",
       "\n",
       "    .dataframe thead th {\n",
       "        text-align: right;\n",
       "    }\n",
       "</style>\n",
       "<table border=\"1\" class=\"dataframe\">\n",
       "  <thead>\n",
       "    <tr style=\"text-align: right;\">\n",
       "      <th></th>\n",
       "      <th>Tempo</th>\n",
       "      <th>V1</th>\n",
       "      <th>V2</th>\n",
       "      <th>V3</th>\n",
       "      <th>V4</th>\n",
       "      <th>V5</th>\n",
       "      <th>V6</th>\n",
       "      <th>V7</th>\n",
       "      <th>V8</th>\n",
       "      <th>V9</th>\n",
       "      <th>...</th>\n",
       "      <th>V21</th>\n",
       "      <th>V22</th>\n",
       "      <th>V23</th>\n",
       "      <th>V24</th>\n",
       "      <th>V25</th>\n",
       "      <th>V26</th>\n",
       "      <th>V27</th>\n",
       "      <th>V28</th>\n",
       "      <th>Valor</th>\n",
       "      <th>Fraude</th>\n",
       "    </tr>\n",
       "  </thead>\n",
       "  <tbody>\n",
       "    <tr>\n",
       "      <th>0</th>\n",
       "      <td>0.0</td>\n",
       "      <td>-1.359807</td>\n",
       "      <td>-0.072781</td>\n",
       "      <td>2.536347</td>\n",
       "      <td>1.378155</td>\n",
       "      <td>-0.338321</td>\n",
       "      <td>0.462388</td>\n",
       "      <td>0.239599</td>\n",
       "      <td>0.098698</td>\n",
       "      <td>0.363787</td>\n",
       "      <td>...</td>\n",
       "      <td>-0.018307</td>\n",
       "      <td>0.277838</td>\n",
       "      <td>-0.110474</td>\n",
       "      <td>0.066928</td>\n",
       "      <td>0.128539</td>\n",
       "      <td>-0.189115</td>\n",
       "      <td>0.133558</td>\n",
       "      <td>-0.021053</td>\n",
       "      <td>149.62</td>\n",
       "      <td>0</td>\n",
       "    </tr>\n",
       "    <tr>\n",
       "      <th>1</th>\n",
       "      <td>0.0</td>\n",
       "      <td>1.191857</td>\n",
       "      <td>0.266151</td>\n",
       "      <td>0.166480</td>\n",
       "      <td>0.448154</td>\n",
       "      <td>0.060018</td>\n",
       "      <td>-0.082361</td>\n",
       "      <td>-0.078803</td>\n",
       "      <td>0.085102</td>\n",
       "      <td>-0.255425</td>\n",
       "      <td>...</td>\n",
       "      <td>-0.225775</td>\n",
       "      <td>-0.638672</td>\n",
       "      <td>0.101288</td>\n",
       "      <td>-0.339846</td>\n",
       "      <td>0.167170</td>\n",
       "      <td>0.125895</td>\n",
       "      <td>-0.008983</td>\n",
       "      <td>0.014724</td>\n",
       "      <td>2.69</td>\n",
       "      <td>0</td>\n",
       "    </tr>\n",
       "    <tr>\n",
       "      <th>2</th>\n",
       "      <td>1.0</td>\n",
       "      <td>-1.358354</td>\n",
       "      <td>-1.340163</td>\n",
       "      <td>1.773209</td>\n",
       "      <td>0.379780</td>\n",
       "      <td>-0.503198</td>\n",
       "      <td>1.800499</td>\n",
       "      <td>0.791461</td>\n",
       "      <td>0.247676</td>\n",
       "      <td>-1.514654</td>\n",
       "      <td>...</td>\n",
       "      <td>0.247998</td>\n",
       "      <td>0.771679</td>\n",
       "      <td>0.909412</td>\n",
       "      <td>-0.689281</td>\n",
       "      <td>-0.327642</td>\n",
       "      <td>-0.139097</td>\n",
       "      <td>-0.055353</td>\n",
       "      <td>-0.059752</td>\n",
       "      <td>378.66</td>\n",
       "      <td>0</td>\n",
       "    </tr>\n",
       "    <tr>\n",
       "      <th>3</th>\n",
       "      <td>1.0</td>\n",
       "      <td>-0.966272</td>\n",
       "      <td>-0.185226</td>\n",
       "      <td>1.792993</td>\n",
       "      <td>-0.863291</td>\n",
       "      <td>-0.010309</td>\n",
       "      <td>1.247203</td>\n",
       "      <td>0.237609</td>\n",
       "      <td>0.377436</td>\n",
       "      <td>-1.387024</td>\n",
       "      <td>...</td>\n",
       "      <td>-0.108300</td>\n",
       "      <td>0.005274</td>\n",
       "      <td>-0.190321</td>\n",
       "      <td>-1.175575</td>\n",
       "      <td>0.647376</td>\n",
       "      <td>-0.221929</td>\n",
       "      <td>0.062723</td>\n",
       "      <td>0.061458</td>\n",
       "      <td>123.50</td>\n",
       "      <td>0</td>\n",
       "    </tr>\n",
       "    <tr>\n",
       "      <th>4</th>\n",
       "      <td>2.0</td>\n",
       "      <td>-1.158233</td>\n",
       "      <td>0.877737</td>\n",
       "      <td>1.548718</td>\n",
       "      <td>0.403034</td>\n",
       "      <td>-0.407193</td>\n",
       "      <td>0.095921</td>\n",
       "      <td>0.592941</td>\n",
       "      <td>-0.270533</td>\n",
       "      <td>0.817739</td>\n",
       "      <td>...</td>\n",
       "      <td>-0.009431</td>\n",
       "      <td>0.798278</td>\n",
       "      <td>-0.137458</td>\n",
       "      <td>0.141267</td>\n",
       "      <td>-0.206010</td>\n",
       "      <td>0.502292</td>\n",
       "      <td>0.219422</td>\n",
       "      <td>0.215153</td>\n",
       "      <td>69.99</td>\n",
       "      <td>0</td>\n",
       "    </tr>\n",
       "  </tbody>\n",
       "</table>\n",
       "<p>5 rows × 31 columns</p>\n",
       "</div>"
      ],
      "text/plain": [
       "   Tempo        V1        V2        V3        V4        V5        V6  \\\n",
       "0    0.0 -1.359807 -0.072781  2.536347  1.378155 -0.338321  0.462388   \n",
       "1    0.0  1.191857  0.266151  0.166480  0.448154  0.060018 -0.082361   \n",
       "2    1.0 -1.358354 -1.340163  1.773209  0.379780 -0.503198  1.800499   \n",
       "3    1.0 -0.966272 -0.185226  1.792993 -0.863291 -0.010309  1.247203   \n",
       "4    2.0 -1.158233  0.877737  1.548718  0.403034 -0.407193  0.095921   \n",
       "\n",
       "         V7        V8        V9  ...       V21       V22       V23       V24  \\\n",
       "0  0.239599  0.098698  0.363787  ... -0.018307  0.277838 -0.110474  0.066928   \n",
       "1 -0.078803  0.085102 -0.255425  ... -0.225775 -0.638672  0.101288 -0.339846   \n",
       "2  0.791461  0.247676 -1.514654  ...  0.247998  0.771679  0.909412 -0.689281   \n",
       "3  0.237609  0.377436 -1.387024  ... -0.108300  0.005274 -0.190321 -1.175575   \n",
       "4  0.592941 -0.270533  0.817739  ... -0.009431  0.798278 -0.137458  0.141267   \n",
       "\n",
       "        V25       V26       V27       V28   Valor  Fraude  \n",
       "0  0.128539 -0.189115  0.133558 -0.021053  149.62       0  \n",
       "1  0.167170  0.125895 -0.008983  0.014724    2.69       0  \n",
       "2 -0.327642 -0.139097 -0.055353 -0.059752  378.66       0  \n",
       "3  0.647376 -0.221929  0.062723  0.061458  123.50       0  \n",
       "4 -0.206010  0.502292  0.219422  0.215153   69.99       0  \n",
       "\n",
       "[5 rows x 31 columns]"
      ]
     },
     "execution_count": 9,
     "metadata": {},
     "output_type": "execute_result"
    }
   ],
   "source": [
    "df_train.head()"
   ]
  },
  {
   "cell_type": "code",
   "execution_count": 10,
   "metadata": {},
   "outputs": [
    {
     "data": {
      "text/html": [
       "<div>\n",
       "<style scoped>\n",
       "    .dataframe tbody tr th:only-of-type {\n",
       "        vertical-align: middle;\n",
       "    }\n",
       "\n",
       "    .dataframe tbody tr th {\n",
       "        vertical-align: top;\n",
       "    }\n",
       "\n",
       "    .dataframe thead th {\n",
       "        text-align: right;\n",
       "    }\n",
       "</style>\n",
       "<table border=\"1\" class=\"dataframe\">\n",
       "  <thead>\n",
       "    <tr style=\"text-align: right;\">\n",
       "      <th></th>\n",
       "      <th>Tempo</th>\n",
       "      <th>V1</th>\n",
       "      <th>V2</th>\n",
       "      <th>V3</th>\n",
       "      <th>V4</th>\n",
       "      <th>V5</th>\n",
       "      <th>V6</th>\n",
       "      <th>V7</th>\n",
       "      <th>V8</th>\n",
       "      <th>V9</th>\n",
       "      <th>...</th>\n",
       "      <th>V21</th>\n",
       "      <th>V22</th>\n",
       "      <th>V23</th>\n",
       "      <th>V24</th>\n",
       "      <th>V25</th>\n",
       "      <th>V26</th>\n",
       "      <th>V27</th>\n",
       "      <th>V28</th>\n",
       "      <th>Valor</th>\n",
       "      <th>Fraude</th>\n",
       "    </tr>\n",
       "  </thead>\n",
       "  <tbody>\n",
       "    <tr>\n",
       "      <th>227845</th>\n",
       "      <td>145248.0</td>\n",
       "      <td>1.914027</td>\n",
       "      <td>-0.490068</td>\n",
       "      <td>-0.326111</td>\n",
       "      <td>0.604711</td>\n",
       "      <td>-0.850136</td>\n",
       "      <td>-0.736319</td>\n",
       "      <td>-0.524058</td>\n",
       "      <td>-0.088614</td>\n",
       "      <td>1.091125</td>\n",
       "      <td>...</td>\n",
       "      <td>0.210958</td>\n",
       "      <td>0.639338</td>\n",
       "      <td>0.147523</td>\n",
       "      <td>0.073654</td>\n",
       "      <td>-0.318378</td>\n",
       "      <td>0.350612</td>\n",
       "      <td>-0.023843</td>\n",
       "      <td>-0.037139</td>\n",
       "      <td>50.00</td>\n",
       "      <td>0</td>\n",
       "    </tr>\n",
       "    <tr>\n",
       "      <th>227846</th>\n",
       "      <td>145249.0</td>\n",
       "      <td>2.152696</td>\n",
       "      <td>-0.036161</td>\n",
       "      <td>-2.231811</td>\n",
       "      <td>0.091766</td>\n",
       "      <td>0.537612</td>\n",
       "      <td>-1.368103</td>\n",
       "      <td>0.613327</td>\n",
       "      <td>-0.455252</td>\n",
       "      <td>0.291814</td>\n",
       "      <td>...</td>\n",
       "      <td>0.017153</td>\n",
       "      <td>0.063242</td>\n",
       "      <td>-0.034561</td>\n",
       "      <td>-0.626866</td>\n",
       "      <td>0.249213</td>\n",
       "      <td>0.773931</td>\n",
       "      <td>-0.137115</td>\n",
       "      <td>-0.090611</td>\n",
       "      <td>14.95</td>\n",
       "      <td>0</td>\n",
       "    </tr>\n",
       "    <tr>\n",
       "      <th>227847</th>\n",
       "      <td>145249.0</td>\n",
       "      <td>-4.034795</td>\n",
       "      <td>2.305079</td>\n",
       "      <td>-1.461693</td>\n",
       "      <td>-0.729887</td>\n",
       "      <td>-1.528750</td>\n",
       "      <td>-1.225679</td>\n",
       "      <td>-0.893354</td>\n",
       "      <td>1.622522</td>\n",
       "      <td>1.291998</td>\n",
       "      <td>...</td>\n",
       "      <td>-0.392557</td>\n",
       "      <td>-0.787599</td>\n",
       "      <td>0.343468</td>\n",
       "      <td>-0.090331</td>\n",
       "      <td>0.248287</td>\n",
       "      <td>-0.238524</td>\n",
       "      <td>0.266484</td>\n",
       "      <td>-0.062236</td>\n",
       "      <td>7.70</td>\n",
       "      <td>0</td>\n",
       "    </tr>\n",
       "    <tr>\n",
       "      <th>227848</th>\n",
       "      <td>145249.0</td>\n",
       "      <td>-1.668741</td>\n",
       "      <td>1.168055</td>\n",
       "      <td>0.249642</td>\n",
       "      <td>-1.268497</td>\n",
       "      <td>0.785923</td>\n",
       "      <td>-0.663959</td>\n",
       "      <td>0.859433</td>\n",
       "      <td>0.068111</td>\n",
       "      <td>-0.144183</td>\n",
       "      <td>...</td>\n",
       "      <td>-0.247544</td>\n",
       "      <td>-0.592537</td>\n",
       "      <td>-0.286694</td>\n",
       "      <td>-0.378856</td>\n",
       "      <td>-0.077429</td>\n",
       "      <td>0.067608</td>\n",
       "      <td>-0.278962</td>\n",
       "      <td>-0.064193</td>\n",
       "      <td>6.99</td>\n",
       "      <td>0</td>\n",
       "    </tr>\n",
       "    <tr>\n",
       "      <th>227849</th>\n",
       "      <td>145250.0</td>\n",
       "      <td>-0.550678</td>\n",
       "      <td>-0.429004</td>\n",
       "      <td>-1.291893</td>\n",
       "      <td>-0.414409</td>\n",
       "      <td>-0.292229</td>\n",
       "      <td>0.071843</td>\n",
       "      <td>2.426068</td>\n",
       "      <td>-0.212730</td>\n",
       "      <td>0.412374</td>\n",
       "      <td>...</td>\n",
       "      <td>0.003032</td>\n",
       "      <td>-0.645783</td>\n",
       "      <td>0.877016</td>\n",
       "      <td>-1.228529</td>\n",
       "      <td>-0.036281</td>\n",
       "      <td>-0.110610</td>\n",
       "      <td>-0.098380</td>\n",
       "      <td>0.095985</td>\n",
       "      <td>460.71</td>\n",
       "      <td>0</td>\n",
       "    </tr>\n",
       "  </tbody>\n",
       "</table>\n",
       "<p>5 rows × 31 columns</p>\n",
       "</div>"
      ],
      "text/plain": [
       "           Tempo        V1        V2        V3        V4        V5        V6  \\\n",
       "227845  145248.0  1.914027 -0.490068 -0.326111  0.604711 -0.850136 -0.736319   \n",
       "227846  145249.0  2.152696 -0.036161 -2.231811  0.091766  0.537612 -1.368103   \n",
       "227847  145249.0 -4.034795  2.305079 -1.461693 -0.729887 -1.528750 -1.225679   \n",
       "227848  145249.0 -1.668741  1.168055  0.249642 -1.268497  0.785923 -0.663959   \n",
       "227849  145250.0 -0.550678 -0.429004 -1.291893 -0.414409 -0.292229  0.071843   \n",
       "\n",
       "              V7        V8        V9  ...       V21       V22       V23  \\\n",
       "227845 -0.524058 -0.088614  1.091125  ...  0.210958  0.639338  0.147523   \n",
       "227846  0.613327 -0.455252  0.291814  ...  0.017153  0.063242 -0.034561   \n",
       "227847 -0.893354  1.622522  1.291998  ... -0.392557 -0.787599  0.343468   \n",
       "227848  0.859433  0.068111 -0.144183  ... -0.247544 -0.592537 -0.286694   \n",
       "227849  2.426068 -0.212730  0.412374  ...  0.003032 -0.645783  0.877016   \n",
       "\n",
       "             V24       V25       V26       V27       V28   Valor  Fraude  \n",
       "227845  0.073654 -0.318378  0.350612 -0.023843 -0.037139   50.00       0  \n",
       "227846 -0.626866  0.249213  0.773931 -0.137115 -0.090611   14.95       0  \n",
       "227847 -0.090331  0.248287 -0.238524  0.266484 -0.062236    7.70       0  \n",
       "227848 -0.378856 -0.077429  0.067608 -0.278962 -0.064193    6.99       0  \n",
       "227849 -1.228529 -0.036281 -0.110610 -0.098380  0.095985  460.71       0  \n",
       "\n",
       "[5 rows x 31 columns]"
      ]
     },
     "execution_count": 10,
     "metadata": {},
     "output_type": "execute_result"
    }
   ],
   "source": [
    "df_test.head()"
   ]
  },
  {
   "cell_type": "markdown",
   "metadata": {},
   "source": [
    "## Salvando em `.parquet`"
   ]
  },
  {
   "cell_type": "code",
   "execution_count": 11,
   "metadata": {},
   "outputs": [],
   "source": [
    "# conjunto completo\n",
    "df.to_parquet(\n",
    "    os.environ['NOTEBOOKS_PROCESSED_DATA_PATH'] + \\\n",
    "        'creditcard.parquet'\n",
    ")\n",
    "\n",
    "# conjunto de treino\n",
    "df_train.to_parquet(\n",
    "    os.environ['NOTEBOOKS_PROCESSED_DATA_PATH'] + \\\n",
    "        'creditcard_train_major.parquet'\n",
    ")\n",
    "\n",
    "# conjunto de teste\n",
    "df_test.to_parquet(\n",
    "    os.environ['NOTEBOOKS_PROCESSED_DATA_PATH'] + \\\n",
    "        'creditcard_test.parquet'\n",
    ")"
   ]
  },
  {
   "cell_type": "markdown",
   "metadata": {},
   "source": [
    "## Separando o Treino novamente em Treino e Validação"
   ]
  },
  {
   "cell_type": "code",
   "execution_count": 12,
   "metadata": {},
   "outputs": [],
   "source": [
    "X = df_train.drop('Fraude', axis=1)\n",
    "y = df_train['Fraude']"
   ]
  },
  {
   "cell_type": "code",
   "execution_count": 13,
   "metadata": {},
   "outputs": [
    {
     "data": {
      "text/plain": [
       "((182276, 30), (45569, 30))"
      ]
     },
     "execution_count": 13,
     "metadata": {},
     "output_type": "execute_result"
    }
   ],
   "source": [
    "x_train, x_val, y_train, y_val = train_test_split(\n",
    "    X, y,\n",
    "    test_size=.2,\n",
    "    shuffle=True\n",
    ")\n",
    "\n",
    "x_train.shape, x_val.shape"
   ]
  },
  {
   "cell_type": "code",
   "execution_count": 14,
   "metadata": {},
   "outputs": [
    {
     "name": "stdout",
     "output_type": "stream",
     "text": [
      "(182276, 30) (182276,)\n",
      "(182276, 31)\n"
     ]
    }
   ],
   "source": [
    "print(x_train.shape, y_train.shape)\n",
    "\n",
    "df_train = pd.concat([x_train, y_train], axis=1)\n",
    "print(df_train.shape)"
   ]
  },
  {
   "cell_type": "code",
   "execution_count": 15,
   "metadata": {},
   "outputs": [
    {
     "name": "stdout",
     "output_type": "stream",
     "text": [
      "(45569, 30) (45569,)\n",
      "(45569, 31)\n"
     ]
    }
   ],
   "source": [
    "print(x_val.shape, y_val.shape)\n",
    "\n",
    "df_val = pd.concat([x_val, y_val], axis=1)\n",
    "print(df_val.shape)"
   ]
  },
  {
   "cell_type": "markdown",
   "metadata": {},
   "source": [
    "## Validando a estratificação das classes"
   ]
  },
  {
   "cell_type": "code",
   "execution_count": 16,
   "metadata": {},
   "outputs": [
    {
     "data": {
      "text/plain": [
       "0    181958\n",
       "1       318\n",
       "Name: Fraude, dtype: int64"
      ]
     },
     "metadata": {},
     "output_type": "display_data"
    },
    {
     "data": {
      "text/plain": [
       "0.001744607079374136"
      ]
     },
     "execution_count": 16,
     "metadata": {},
     "output_type": "execute_result"
    }
   ],
   "source": [
    "counts = df_train['Fraude'].value_counts()\n",
    "\n",
    "display(counts)\n",
    "counts.values[-1] / sum(counts)"
   ]
  },
  {
   "cell_type": "code",
   "execution_count": 17,
   "metadata": {},
   "outputs": [
    {
     "data": {
      "text/plain": [
       "0    45470\n",
       "1       99\n",
       "Name: Fraude, dtype: int64"
      ]
     },
     "metadata": {},
     "output_type": "display_data"
    },
    {
     "data": {
      "text/plain": [
       "0.0021725295705413766"
      ]
     },
     "execution_count": 17,
     "metadata": {},
     "output_type": "execute_result"
    }
   ],
   "source": [
    "counts = df_val['Fraude'].value_counts()\n",
    "\n",
    "display(counts)\n",
    "counts.values[-1] / sum(counts)"
   ]
  },
  {
   "cell_type": "markdown",
   "metadata": {},
   "source": [
    "## Salvando em `.parquet`"
   ]
  },
  {
   "cell_type": "code",
   "execution_count": 18,
   "metadata": {},
   "outputs": [],
   "source": [
    "df_train.to_parquet(\n",
    "    os.environ['NOTEBOOKS_PROCESSED_DATA_PATH'] + \\\n",
    "        'creditcard_train_minor.parquet'\n",
    ")\n",
    "\n",
    "df_val.to_parquet(\n",
    "    os.environ['NOTEBOOKS_PROCESSED_DATA_PATH'] + \\\n",
    "        'creditcard_val.parquet'\n",
    ")"
   ]
  }
 ],
 "metadata": {
  "kernelspec": {
   "display_name": "Python 3",
   "language": "python",
   "name": "python3"
  },
  "language_info": {
   "codemirror_mode": {
    "name": "ipython",
    "version": 3
   },
   "file_extension": ".py",
   "mimetype": "text/x-python",
   "name": "python",
   "nbconvert_exporter": "python",
   "pygments_lexer": "ipython3",
   "version": "3.9.13"
  },
  "orig_nbformat": 4
 },
 "nbformat": 4,
 "nbformat_minor": 2
}
