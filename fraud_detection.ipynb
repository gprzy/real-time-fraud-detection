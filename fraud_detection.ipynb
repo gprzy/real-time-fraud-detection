{
 "cells": [
  {
   "attachments": {},
   "cell_type": "markdown",
   "metadata": {},
   "source": [
    "# **DETECÇÃO DE FRAUDES EM TEMPO REAL**\n",
    "Uma abordagem baseada em aprendizagem de máquina."
   ]
  },
  {
   "attachments": {},
   "cell_type": "markdown",
   "metadata": {},
   "source": [
    "## Seções deste notebook\n",
    "\n",
    "1. [Entendimento do Problema de Negócio](#entendimento-do-problema-de-negócio);\n",
    "2. [Pré-processamento, Limpeza e Padronização dos Dados]() (*preprocessing*);\n",
    "3. [Tratamento de Valores Faltantes]() (*data imputation*);\n",
    "4. [Análise Exploratória]() (EDA);\n",
    "5. [Tratamento de *outliers*]();\n",
    "6. [Engenharia de Features]() (*feature engineering*);\n",
    "7. [Seleção de Modelos]() (*model selection*);\n",
    "8. [Seleção de Features]() (*feature selection*);\n",
    "9. [Tunagem de Hiperparâmetros]() (*hyperparameter tuning*);\n",
    "10. [Serialização do Modelo]() (*deploy*);\n",
    "11. [Ajuste de *threshold*]();\n",
    "12. [Explicabilidade do Modelo](@explicabilidade-do-modelo) (SHAP);\n",
    "13. [Considerações Finais]();"
   ]
  },
  {
   "cell_type": "markdown",
   "metadata": {},
   "source": [
    "## Importações e Configurações"
   ]
  },
  {
   "cell_type": "code",
   "execution_count": 17,
   "metadata": {},
   "outputs": [],
   "source": [
    "import numpy as np\n",
    "import pandas as pd\n",
    "\n",
    "import matplotlib.pyplot as plt\n",
    "import seaborn as sns\n",
    "\n",
    "from sklearn.model_selection import train_test_split\n",
    "from lazypredict.Supervised import LazyClassifier\n",
    "\n",
    "import etl.metadata as meta"
   ]
  },
  {
   "cell_type": "code",
   "execution_count": 14,
   "metadata": {},
   "outputs": [],
   "source": [
    "import warnings\n",
    "warnings.filterwarnings('ignore')"
   ]
  },
  {
   "cell_type": "code",
   "execution_count": 15,
   "metadata": {},
   "outputs": [],
   "source": [
    "RAW_DATA_PATH = './data/raw/creditcard.csv'"
   ]
  },
  {
   "attachments": {},
   "cell_type": "markdown",
   "metadata": {},
   "source": [
    "---"
   ]
  },
  {
   "attachments": {},
   "cell_type": "markdown",
   "metadata": {},
   "source": [
    "## Entendimento do Problema de Negócio"
   ]
  },
  {
   "attachments": {},
   "cell_type": "markdown",
   "metadata": {},
   "source": [
    "## Pré-processamento, Limpeza e Padronização dos Dados"
   ]
  },
  {
   "attachments": {},
   "cell_type": "markdown",
   "metadata": {},
   "source": [
    "O código abaixo lê os dados brutos, referentes às transações de cartão de crédito da Europa."
   ]
  },
  {
   "cell_type": "code",
   "execution_count": 3,
   "metadata": {},
   "outputs": [
    {
     "data": {
      "text/plain": [
       "(284807, 31)"
      ]
     },
     "execution_count": 3,
     "metadata": {},
     "output_type": "execute_result"
    }
   ],
   "source": [
    "df = pd.read_csv(RAW_DATA_PATH)\n",
    "df.shape"
   ]
  },
  {
   "attachments": {},
   "cell_type": "markdown",
   "metadata": {},
   "source": [
    "Observamos que a base possui 284.807 linhas e 31 colunas."
   ]
  },
  {
   "attachments": {},
   "cell_type": "markdown",
   "metadata": {},
   "source": [
    "Abaixo, vamos dar uma olhada no cabeçalho da base:"
   ]
  },
  {
   "cell_type": "code",
   "execution_count": 4,
   "metadata": {},
   "outputs": [
    {
     "data": {
      "text/html": [
       "<div>\n",
       "<style scoped>\n",
       "    .dataframe tbody tr th:only-of-type {\n",
       "        vertical-align: middle;\n",
       "    }\n",
       "\n",
       "    .dataframe tbody tr th {\n",
       "        vertical-align: top;\n",
       "    }\n",
       "\n",
       "    .dataframe thead th {\n",
       "        text-align: right;\n",
       "    }\n",
       "</style>\n",
       "<table border=\"1\" class=\"dataframe\">\n",
       "  <thead>\n",
       "    <tr style=\"text-align: right;\">\n",
       "      <th></th>\n",
       "      <th>Time</th>\n",
       "      <th>V1</th>\n",
       "      <th>V2</th>\n",
       "      <th>V3</th>\n",
       "      <th>V4</th>\n",
       "      <th>V5</th>\n",
       "      <th>V6</th>\n",
       "      <th>V7</th>\n",
       "      <th>V8</th>\n",
       "      <th>V9</th>\n",
       "      <th>...</th>\n",
       "      <th>V21</th>\n",
       "      <th>V22</th>\n",
       "      <th>V23</th>\n",
       "      <th>V24</th>\n",
       "      <th>V25</th>\n",
       "      <th>V26</th>\n",
       "      <th>V27</th>\n",
       "      <th>V28</th>\n",
       "      <th>Amount</th>\n",
       "      <th>Class</th>\n",
       "    </tr>\n",
       "  </thead>\n",
       "  <tbody>\n",
       "    <tr>\n",
       "      <th>0</th>\n",
       "      <td>0.0</td>\n",
       "      <td>-1.359807</td>\n",
       "      <td>-0.072781</td>\n",
       "      <td>2.536347</td>\n",
       "      <td>1.378155</td>\n",
       "      <td>-0.338321</td>\n",
       "      <td>0.462388</td>\n",
       "      <td>0.239599</td>\n",
       "      <td>0.098698</td>\n",
       "      <td>0.363787</td>\n",
       "      <td>...</td>\n",
       "      <td>-0.018307</td>\n",
       "      <td>0.277838</td>\n",
       "      <td>-0.110474</td>\n",
       "      <td>0.066928</td>\n",
       "      <td>0.128539</td>\n",
       "      <td>-0.189115</td>\n",
       "      <td>0.133558</td>\n",
       "      <td>-0.021053</td>\n",
       "      <td>149.62</td>\n",
       "      <td>0</td>\n",
       "    </tr>\n",
       "    <tr>\n",
       "      <th>1</th>\n",
       "      <td>0.0</td>\n",
       "      <td>1.191857</td>\n",
       "      <td>0.266151</td>\n",
       "      <td>0.166480</td>\n",
       "      <td>0.448154</td>\n",
       "      <td>0.060018</td>\n",
       "      <td>-0.082361</td>\n",
       "      <td>-0.078803</td>\n",
       "      <td>0.085102</td>\n",
       "      <td>-0.255425</td>\n",
       "      <td>...</td>\n",
       "      <td>-0.225775</td>\n",
       "      <td>-0.638672</td>\n",
       "      <td>0.101288</td>\n",
       "      <td>-0.339846</td>\n",
       "      <td>0.167170</td>\n",
       "      <td>0.125895</td>\n",
       "      <td>-0.008983</td>\n",
       "      <td>0.014724</td>\n",
       "      <td>2.69</td>\n",
       "      <td>0</td>\n",
       "    </tr>\n",
       "    <tr>\n",
       "      <th>2</th>\n",
       "      <td>1.0</td>\n",
       "      <td>-1.358354</td>\n",
       "      <td>-1.340163</td>\n",
       "      <td>1.773209</td>\n",
       "      <td>0.379780</td>\n",
       "      <td>-0.503198</td>\n",
       "      <td>1.800499</td>\n",
       "      <td>0.791461</td>\n",
       "      <td>0.247676</td>\n",
       "      <td>-1.514654</td>\n",
       "      <td>...</td>\n",
       "      <td>0.247998</td>\n",
       "      <td>0.771679</td>\n",
       "      <td>0.909412</td>\n",
       "      <td>-0.689281</td>\n",
       "      <td>-0.327642</td>\n",
       "      <td>-0.139097</td>\n",
       "      <td>-0.055353</td>\n",
       "      <td>-0.059752</td>\n",
       "      <td>378.66</td>\n",
       "      <td>0</td>\n",
       "    </tr>\n",
       "    <tr>\n",
       "      <th>3</th>\n",
       "      <td>1.0</td>\n",
       "      <td>-0.966272</td>\n",
       "      <td>-0.185226</td>\n",
       "      <td>1.792993</td>\n",
       "      <td>-0.863291</td>\n",
       "      <td>-0.010309</td>\n",
       "      <td>1.247203</td>\n",
       "      <td>0.237609</td>\n",
       "      <td>0.377436</td>\n",
       "      <td>-1.387024</td>\n",
       "      <td>...</td>\n",
       "      <td>-0.108300</td>\n",
       "      <td>0.005274</td>\n",
       "      <td>-0.190321</td>\n",
       "      <td>-1.175575</td>\n",
       "      <td>0.647376</td>\n",
       "      <td>-0.221929</td>\n",
       "      <td>0.062723</td>\n",
       "      <td>0.061458</td>\n",
       "      <td>123.50</td>\n",
       "      <td>0</td>\n",
       "    </tr>\n",
       "    <tr>\n",
       "      <th>4</th>\n",
       "      <td>2.0</td>\n",
       "      <td>-1.158233</td>\n",
       "      <td>0.877737</td>\n",
       "      <td>1.548718</td>\n",
       "      <td>0.403034</td>\n",
       "      <td>-0.407193</td>\n",
       "      <td>0.095921</td>\n",
       "      <td>0.592941</td>\n",
       "      <td>-0.270533</td>\n",
       "      <td>0.817739</td>\n",
       "      <td>...</td>\n",
       "      <td>-0.009431</td>\n",
       "      <td>0.798278</td>\n",
       "      <td>-0.137458</td>\n",
       "      <td>0.141267</td>\n",
       "      <td>-0.206010</td>\n",
       "      <td>0.502292</td>\n",
       "      <td>0.219422</td>\n",
       "      <td>0.215153</td>\n",
       "      <td>69.99</td>\n",
       "      <td>0</td>\n",
       "    </tr>\n",
       "  </tbody>\n",
       "</table>\n",
       "<p>5 rows × 31 columns</p>\n",
       "</div>"
      ],
      "text/plain": [
       "   Time        V1        V2        V3        V4        V5        V6        V7  \\\n",
       "0   0.0 -1.359807 -0.072781  2.536347  1.378155 -0.338321  0.462388  0.239599   \n",
       "1   0.0  1.191857  0.266151  0.166480  0.448154  0.060018 -0.082361 -0.078803   \n",
       "2   1.0 -1.358354 -1.340163  1.773209  0.379780 -0.503198  1.800499  0.791461   \n",
       "3   1.0 -0.966272 -0.185226  1.792993 -0.863291 -0.010309  1.247203  0.237609   \n",
       "4   2.0 -1.158233  0.877737  1.548718  0.403034 -0.407193  0.095921  0.592941   \n",
       "\n",
       "         V8        V9  ...       V21       V22       V23       V24       V25  \\\n",
       "0  0.098698  0.363787  ... -0.018307  0.277838 -0.110474  0.066928  0.128539   \n",
       "1  0.085102 -0.255425  ... -0.225775 -0.638672  0.101288 -0.339846  0.167170   \n",
       "2  0.247676 -1.514654  ...  0.247998  0.771679  0.909412 -0.689281 -0.327642   \n",
       "3  0.377436 -1.387024  ... -0.108300  0.005274 -0.190321 -1.175575  0.647376   \n",
       "4 -0.270533  0.817739  ... -0.009431  0.798278 -0.137458  0.141267 -0.206010   \n",
       "\n",
       "        V26       V27       V28  Amount  Class  \n",
       "0 -0.189115  0.133558 -0.021053  149.62      0  \n",
       "1  0.125895 -0.008983  0.014724    2.69      0  \n",
       "2 -0.139097 -0.055353 -0.059752  378.66      0  \n",
       "3 -0.221929  0.062723  0.061458  123.50      0  \n",
       "4  0.502292  0.219422  0.215153   69.99      0  \n",
       "\n",
       "[5 rows x 31 columns]"
      ]
     },
     "execution_count": 4,
     "metadata": {},
     "output_type": "execute_result"
    }
   ],
   "source": [
    "df.head()"
   ]
  },
  {
   "cell_type": "code",
   "execution_count": 9,
   "metadata": {},
   "outputs": [
    {
     "data": {
      "text/plain": [
       "time                                      float64\n",
       "bandeira_origem_v1                        float64\n",
       "bandeira_destino_v2                       float64\n",
       "tipo_transacao_v3                         float64\n",
       "tipo_transacao_2_v4                       float64\n",
       "banco_origem_v5                           float64\n",
       "banco_destino_v6                          float64\n",
       "longitude_v7                              float64\n",
       "latitude_v8                               float64\n",
       "periodo_do_dia_transacao_v9               float64\n",
       "data_transacao_dia_da_semana_v10          float64\n",
       "data_transacao_mes_v11                    float64\n",
       "dist_origem_destino_v12                   float64\n",
       "valor_saldo_anterior_origem_v13           float64\n",
       "valor_saldo_anterior_destino_v14          float64\n",
       "tipo_cartao_v15                           float64\n",
       "debito_credito_v16                        float64\n",
       "tempo_conta_origem_v17                    float64\n",
       "tempo_conta_destino_v18                   float64\n",
       "grupo_ip_origem_v19                       float64\n",
       "pais_origem_v20                           float64\n",
       "pais_destino_v21                          float64\n",
       "grupo_cep_origem_v22                      float64\n",
       "grupo_cep_destino_v23                     float64\n",
       "data_expiracao_v24                        float64\n",
       "limiar_fraude_v25                         float64\n",
       "bandeira_cartao_origem_v26                float64\n",
       "grupo_sistema_operacional_origem_v27      float64\n",
       "taxa_incidencia_fraudes_no_passado_v28    float64\n",
       "amount                                    float64\n",
       "fraud                                       int64\n",
       "dtype: object"
      ]
     },
     "execution_count": 9,
     "metadata": {},
     "output_type": "execute_result"
    }
   ],
   "source": [
    "df.dtypes"
   ]
  },
  {
   "attachments": {},
   "cell_type": "markdown",
   "metadata": {},
   "source": [
    "Como mencionado anteriormente, o nome das colunas está mascarado por questões de privacidade e anonimato.\n",
    "\n",
    "Nesse caso, os processos realizados em `etl/airflow/scripts/transform.py` referentes à limpeza dos dados, padronização e imputação de possíveis valores faltantes serão realizados por aqui, em caráter de exemplificação."
   ]
  },
  {
   "cell_type": "code",
   "execution_count": 5,
   "metadata": {},
   "outputs": [
    {
     "name": "stdout",
     "output_type": "stream",
     "text": [
      "V1: bandeira_origem_v1\n",
      "V2: bandeira_destino_v2\n",
      "V3: tipo_transacao_v3\n",
      "V4: tipo_transacao_2_v4\n",
      "V5: banco_origem_v5\n",
      "V6: banco_destino_v6\n",
      "V7: longitude_v7\n",
      "V8: latitude_v8\n",
      "V9: periodo_do_dia_transacao_v9\n",
      "V10: data_transacao_dia_da_semana_v10\n",
      "V11: data_transacao_mes_v11\n",
      "V12: dist_origem_destino_v12\n",
      "V13: valor_saldo_anterior_origem_v13\n",
      "V14: valor_saldo_anterior_destino_v14\n",
      "V15: tipo_cartao_v15\n",
      "V16: debito_credito_v16\n",
      "V17: tempo_conta_origem_v17\n",
      "V18: tempo_conta_destino_v18\n",
      "V19: grupo_ip_origem_v19\n",
      "V20: pais_origem_v20\n",
      "V21: pais_destino_v21\n",
      "V22: grupo_cep_origem_v22\n",
      "V23: grupo_cep_destino_v23\n",
      "V24: data_expiracao_v24\n",
      "V25: limiar_fraude_v25\n",
      "V26: bandeira_cartao_origem_v26\n",
      "V27: grupo_sistema_operacional_origem_v27\n",
      "V28: taxa_incidencia_fraudes_no_passado_v28\n",
      "Amount: Amount\n",
      "Time: Time\n",
      "Class: Fraud\n"
     ]
    }
   ],
   "source": [
    "for col, fictional_name in meta.column_names.items():\n",
    "    print(f'{col}: {fictional_name}')"
   ]
  },
  {
   "cell_type": "code",
   "execution_count": 6,
   "metadata": {},
   "outputs": [],
   "source": [
    "# renomeando as colunas referentes ao PCA\n",
    "# para nomes fictícios\n",
    "df = df.rename(columns=meta.column_names)\n",
    "\n",
    "# deixando as colunas em letras minúsculas\n",
    "df.columns = [col.lower() for col in df.columns]"
   ]
  },
  {
   "cell_type": "code",
   "execution_count": 7,
   "metadata": {},
   "outputs": [
    {
     "data": {
      "text/html": [
       "<div>\n",
       "<style scoped>\n",
       "    .dataframe tbody tr th:only-of-type {\n",
       "        vertical-align: middle;\n",
       "    }\n",
       "\n",
       "    .dataframe tbody tr th {\n",
       "        vertical-align: top;\n",
       "    }\n",
       "\n",
       "    .dataframe thead th {\n",
       "        text-align: right;\n",
       "    }\n",
       "</style>\n",
       "<table border=\"1\" class=\"dataframe\">\n",
       "  <thead>\n",
       "    <tr style=\"text-align: right;\">\n",
       "      <th></th>\n",
       "      <th>time</th>\n",
       "      <th>bandeira_origem_v1</th>\n",
       "      <th>bandeira_destino_v2</th>\n",
       "      <th>tipo_transacao_v3</th>\n",
       "      <th>tipo_transacao_2_v4</th>\n",
       "      <th>banco_origem_v5</th>\n",
       "      <th>banco_destino_v6</th>\n",
       "      <th>longitude_v7</th>\n",
       "      <th>latitude_v8</th>\n",
       "      <th>periodo_do_dia_transacao_v9</th>\n",
       "      <th>...</th>\n",
       "      <th>pais_destino_v21</th>\n",
       "      <th>grupo_cep_origem_v22</th>\n",
       "      <th>grupo_cep_destino_v23</th>\n",
       "      <th>data_expiracao_v24</th>\n",
       "      <th>limiar_fraude_v25</th>\n",
       "      <th>bandeira_cartao_origem_v26</th>\n",
       "      <th>grupo_sistema_operacional_origem_v27</th>\n",
       "      <th>taxa_incidencia_fraudes_no_passado_v28</th>\n",
       "      <th>amount</th>\n",
       "      <th>fraud</th>\n",
       "    </tr>\n",
       "  </thead>\n",
       "  <tbody>\n",
       "    <tr>\n",
       "      <th>0</th>\n",
       "      <td>0.0</td>\n",
       "      <td>-1.359807</td>\n",
       "      <td>-0.072781</td>\n",
       "      <td>2.536347</td>\n",
       "      <td>1.378155</td>\n",
       "      <td>-0.338321</td>\n",
       "      <td>0.462388</td>\n",
       "      <td>0.239599</td>\n",
       "      <td>0.098698</td>\n",
       "      <td>0.363787</td>\n",
       "      <td>...</td>\n",
       "      <td>-0.018307</td>\n",
       "      <td>0.277838</td>\n",
       "      <td>-0.110474</td>\n",
       "      <td>0.066928</td>\n",
       "      <td>0.128539</td>\n",
       "      <td>-0.189115</td>\n",
       "      <td>0.133558</td>\n",
       "      <td>-0.021053</td>\n",
       "      <td>149.62</td>\n",
       "      <td>0</td>\n",
       "    </tr>\n",
       "    <tr>\n",
       "      <th>1</th>\n",
       "      <td>0.0</td>\n",
       "      <td>1.191857</td>\n",
       "      <td>0.266151</td>\n",
       "      <td>0.166480</td>\n",
       "      <td>0.448154</td>\n",
       "      <td>0.060018</td>\n",
       "      <td>-0.082361</td>\n",
       "      <td>-0.078803</td>\n",
       "      <td>0.085102</td>\n",
       "      <td>-0.255425</td>\n",
       "      <td>...</td>\n",
       "      <td>-0.225775</td>\n",
       "      <td>-0.638672</td>\n",
       "      <td>0.101288</td>\n",
       "      <td>-0.339846</td>\n",
       "      <td>0.167170</td>\n",
       "      <td>0.125895</td>\n",
       "      <td>-0.008983</td>\n",
       "      <td>0.014724</td>\n",
       "      <td>2.69</td>\n",
       "      <td>0</td>\n",
       "    </tr>\n",
       "    <tr>\n",
       "      <th>2</th>\n",
       "      <td>1.0</td>\n",
       "      <td>-1.358354</td>\n",
       "      <td>-1.340163</td>\n",
       "      <td>1.773209</td>\n",
       "      <td>0.379780</td>\n",
       "      <td>-0.503198</td>\n",
       "      <td>1.800499</td>\n",
       "      <td>0.791461</td>\n",
       "      <td>0.247676</td>\n",
       "      <td>-1.514654</td>\n",
       "      <td>...</td>\n",
       "      <td>0.247998</td>\n",
       "      <td>0.771679</td>\n",
       "      <td>0.909412</td>\n",
       "      <td>-0.689281</td>\n",
       "      <td>-0.327642</td>\n",
       "      <td>-0.139097</td>\n",
       "      <td>-0.055353</td>\n",
       "      <td>-0.059752</td>\n",
       "      <td>378.66</td>\n",
       "      <td>0</td>\n",
       "    </tr>\n",
       "    <tr>\n",
       "      <th>3</th>\n",
       "      <td>1.0</td>\n",
       "      <td>-0.966272</td>\n",
       "      <td>-0.185226</td>\n",
       "      <td>1.792993</td>\n",
       "      <td>-0.863291</td>\n",
       "      <td>-0.010309</td>\n",
       "      <td>1.247203</td>\n",
       "      <td>0.237609</td>\n",
       "      <td>0.377436</td>\n",
       "      <td>-1.387024</td>\n",
       "      <td>...</td>\n",
       "      <td>-0.108300</td>\n",
       "      <td>0.005274</td>\n",
       "      <td>-0.190321</td>\n",
       "      <td>-1.175575</td>\n",
       "      <td>0.647376</td>\n",
       "      <td>-0.221929</td>\n",
       "      <td>0.062723</td>\n",
       "      <td>0.061458</td>\n",
       "      <td>123.50</td>\n",
       "      <td>0</td>\n",
       "    </tr>\n",
       "    <tr>\n",
       "      <th>4</th>\n",
       "      <td>2.0</td>\n",
       "      <td>-1.158233</td>\n",
       "      <td>0.877737</td>\n",
       "      <td>1.548718</td>\n",
       "      <td>0.403034</td>\n",
       "      <td>-0.407193</td>\n",
       "      <td>0.095921</td>\n",
       "      <td>0.592941</td>\n",
       "      <td>-0.270533</td>\n",
       "      <td>0.817739</td>\n",
       "      <td>...</td>\n",
       "      <td>-0.009431</td>\n",
       "      <td>0.798278</td>\n",
       "      <td>-0.137458</td>\n",
       "      <td>0.141267</td>\n",
       "      <td>-0.206010</td>\n",
       "      <td>0.502292</td>\n",
       "      <td>0.219422</td>\n",
       "      <td>0.215153</td>\n",
       "      <td>69.99</td>\n",
       "      <td>0</td>\n",
       "    </tr>\n",
       "  </tbody>\n",
       "</table>\n",
       "<p>5 rows × 31 columns</p>\n",
       "</div>"
      ],
      "text/plain": [
       "   time  bandeira_origem_v1  bandeira_destino_v2  tipo_transacao_v3  \\\n",
       "0   0.0           -1.359807            -0.072781           2.536347   \n",
       "1   0.0            1.191857             0.266151           0.166480   \n",
       "2   1.0           -1.358354            -1.340163           1.773209   \n",
       "3   1.0           -0.966272            -0.185226           1.792993   \n",
       "4   2.0           -1.158233             0.877737           1.548718   \n",
       "\n",
       "   tipo_transacao_2_v4  banco_origem_v5  banco_destino_v6  longitude_v7  \\\n",
       "0             1.378155        -0.338321          0.462388      0.239599   \n",
       "1             0.448154         0.060018         -0.082361     -0.078803   \n",
       "2             0.379780        -0.503198          1.800499      0.791461   \n",
       "3            -0.863291        -0.010309          1.247203      0.237609   \n",
       "4             0.403034        -0.407193          0.095921      0.592941   \n",
       "\n",
       "   latitude_v8  periodo_do_dia_transacao_v9  ...  pais_destino_v21  \\\n",
       "0     0.098698                     0.363787  ...         -0.018307   \n",
       "1     0.085102                    -0.255425  ...         -0.225775   \n",
       "2     0.247676                    -1.514654  ...          0.247998   \n",
       "3     0.377436                    -1.387024  ...         -0.108300   \n",
       "4    -0.270533                     0.817739  ...         -0.009431   \n",
       "\n",
       "   grupo_cep_origem_v22  grupo_cep_destino_v23  data_expiracao_v24  \\\n",
       "0              0.277838              -0.110474            0.066928   \n",
       "1             -0.638672               0.101288           -0.339846   \n",
       "2              0.771679               0.909412           -0.689281   \n",
       "3              0.005274              -0.190321           -1.175575   \n",
       "4              0.798278              -0.137458            0.141267   \n",
       "\n",
       "   limiar_fraude_v25  bandeira_cartao_origem_v26  \\\n",
       "0           0.128539                   -0.189115   \n",
       "1           0.167170                    0.125895   \n",
       "2          -0.327642                   -0.139097   \n",
       "3           0.647376                   -0.221929   \n",
       "4          -0.206010                    0.502292   \n",
       "\n",
       "   grupo_sistema_operacional_origem_v27  \\\n",
       "0                              0.133558   \n",
       "1                             -0.008983   \n",
       "2                             -0.055353   \n",
       "3                              0.062723   \n",
       "4                              0.219422   \n",
       "\n",
       "   taxa_incidencia_fraudes_no_passado_v28  amount  fraud  \n",
       "0                               -0.021053  149.62      0  \n",
       "1                                0.014724    2.69      0  \n",
       "2                               -0.059752  378.66      0  \n",
       "3                                0.061458  123.50      0  \n",
       "4                                0.215153   69.99      0  \n",
       "\n",
       "[5 rows x 31 columns]"
      ]
     },
     "execution_count": 7,
     "metadata": {},
     "output_type": "execute_result"
    }
   ],
   "source": [
    "df.head()"
   ]
  },
  {
   "attachments": {},
   "cell_type": "markdown",
   "metadata": {},
   "source": [
    "## Tratamento de Valores Faltantes"
   ]
  },
  {
   "cell_type": "code",
   "execution_count": 10,
   "metadata": {},
   "outputs": [
    {
     "data": {
      "text/plain": [
       "time                                      0.0\n",
       "bandeira_origem_v1                        0.0\n",
       "bandeira_destino_v2                       0.0\n",
       "tipo_transacao_v3                         0.0\n",
       "tipo_transacao_2_v4                       0.0\n",
       "banco_origem_v5                           0.0\n",
       "banco_destino_v6                          0.0\n",
       "longitude_v7                              0.0\n",
       "latitude_v8                               0.0\n",
       "periodo_do_dia_transacao_v9               0.0\n",
       "data_transacao_dia_da_semana_v10          0.0\n",
       "data_transacao_mes_v11                    0.0\n",
       "dist_origem_destino_v12                   0.0\n",
       "valor_saldo_anterior_origem_v13           0.0\n",
       "valor_saldo_anterior_destino_v14          0.0\n",
       "tipo_cartao_v15                           0.0\n",
       "debito_credito_v16                        0.0\n",
       "tempo_conta_origem_v17                    0.0\n",
       "tempo_conta_destino_v18                   0.0\n",
       "grupo_ip_origem_v19                       0.0\n",
       "pais_origem_v20                           0.0\n",
       "pais_destino_v21                          0.0\n",
       "grupo_cep_origem_v22                      0.0\n",
       "grupo_cep_destino_v23                     0.0\n",
       "data_expiracao_v24                        0.0\n",
       "limiar_fraude_v25                         0.0\n",
       "bandeira_cartao_origem_v26                0.0\n",
       "grupo_sistema_operacional_origem_v27      0.0\n",
       "taxa_incidencia_fraudes_no_passado_v28    0.0\n",
       "amount                                    0.0\n",
       "fraud                                     0.0\n",
       "dtype: float64"
      ]
     },
     "execution_count": 10,
     "metadata": {},
     "output_type": "execute_result"
    }
   ],
   "source": [
    "df.isnull().sum() / len(df)"
   ]
  },
  {
   "cell_type": "code",
   "execution_count": 11,
   "metadata": {},
   "outputs": [
    {
     "data": {
      "text/plain": [
       "0.0"
      ]
     },
     "execution_count": 11,
     "metadata": {},
     "output_type": "execute_result"
    }
   ],
   "source": [
    "df.isnull().sum().sum() / len(df)"
   ]
  },
  {
   "attachments": {},
   "cell_type": "markdown",
   "metadata": {},
   "source": [
    "## Análise Exploratória"
   ]
  },
  {
   "attachments": {},
   "cell_type": "markdown",
   "metadata": {},
   "source": [
    "## Separação dos Dados"
   ]
  },
  {
   "cell_type": "code",
   "execution_count": 16,
   "metadata": {},
   "outputs": [
    {
     "data": {
      "text/plain": [
       "((199364, 30), (199364,))"
      ]
     },
     "execution_count": 16,
     "metadata": {},
     "output_type": "execute_result"
    }
   ],
   "source": [
    "X = df.drop('fraud', axis=1).values\n",
    "y = df['fraud'].values\n",
    "\n",
    "X.shape, y.shape\n",
    "(X_train,\n",
    " X_test,\n",
    " y_train,\n",
    " y_test) = train_test_split(\n",
    "    X, y,\n",
    "    test_size=.3,\n",
    "    shuffle=False\n",
    ")\n",
    "\n",
    "X_train.shape, y_train.shape"
   ]
  },
  {
   "attachments": {},
   "cell_type": "markdown",
   "metadata": {},
   "source": [
    "## Engenharia de Features"
   ]
  },
  {
   "attachments": {},
   "cell_type": "markdown",
   "metadata": {},
   "source": [
    "## Seleção de Modelos"
   ]
  },
  {
   "cell_type": "code",
   "execution_count": null,
   "metadata": {},
   "outputs": [],
   "source": [
    "clf = LazyClassifier(\n",
    "    verbose=0,\n",
    "    ignore_warnings=True,\n",
    "    custom_metric=None\n",
    ")\n",
    "\n",
    "models, predictions = clf.fit(\n",
    "    X_train,\n",
    "    X_test,\n",
    "    y_train,\n",
    "    y_test\n",
    ")\n",
    "\n",
    "print(models)"
   ]
  },
  {
   "attachments": {},
   "cell_type": "markdown",
   "metadata": {},
   "source": [
    "## Tratamento de *outliers*"
   ]
  },
  {
   "attachments": {},
   "cell_type": "markdown",
   "metadata": {},
   "source": [
    "## Seleção de Features"
   ]
  },
  {
   "attachments": {},
   "cell_type": "markdown",
   "metadata": {},
   "source": [
    "## Tunagem de Hiperparâmetros"
   ]
  },
  {
   "attachments": {},
   "cell_type": "markdown",
   "metadata": {},
   "source": [
    "## Serialização do Modelo"
   ]
  },
  {
   "attachments": {},
   "cell_type": "markdown",
   "metadata": {},
   "source": [
    "## Ajuste de *threshold*"
   ]
  },
  {
   "attachments": {},
   "cell_type": "markdown",
   "metadata": {},
   "source": [
    "## Explicabilidade do Modelo"
   ]
  },
  {
   "attachments": {},
   "cell_type": "markdown",
   "metadata": {},
   "source": [
    "## Considerações Finais"
   ]
  }
 ],
 "metadata": {
  "kernelspec": {
   "display_name": "Python 3",
   "language": "python",
   "name": "python3"
  },
  "language_info": {
   "codemirror_mode": {
    "name": "ipython",
    "version": 3
   },
   "file_extension": ".py",
   "mimetype": "text/x-python",
   "name": "python",
   "nbconvert_exporter": "python",
   "pygments_lexer": "ipython3",
   "version": "3.10.10"
  },
  "orig_nbformat": 4
 },
 "nbformat": 4,
 "nbformat_minor": 2
}
