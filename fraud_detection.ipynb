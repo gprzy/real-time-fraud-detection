{
 "cells": [
  {
   "attachments": {},
   "cell_type": "markdown",
   "metadata": {},
   "source": [
    "# **DETECÇÃO DE FRAUDES EM TEMPO REAL**\n",
    "Uma abordagem baseada em aprendizagem de máquina."
   ]
  },
  {
   "attachments": {},
   "cell_type": "markdown",
   "metadata": {},
   "source": [
    "## Seções deste notebook\n",
    "\n",
    "1. [Entendimento do Problema de Negócio](#entendimento-do-problema-de-negócio);\n",
    "2. [Pré-processamento, Limpeza e Padronização dos Dados]() (*preprocessing*);\n",
    "3. [Tratamento de Valores Faltantes]() (*data imputation*);\n",
    "4. [Análise Exploratória]() (EDA);\n",
    "5. [Tratamento de *outliers*]();\n",
    "6. [Engenharia de Features]() (*feature engineering*);\n",
    "7. [Seleção de Modelos]() (*model selection*);\n",
    "8. [Seleção de Features]() (*feature selection*);\n",
    "9. [Tunagem de Hiperparâmetros]() (*hyperparameter tuning*);\n",
    "10. [Serialização do Modelo]() (*deploy*);\n",
    "11. [Ajuste de *threshold*]();\n",
    "12. [Explicabilidade do Modelo](@explicabilidade-do-modelo) (SHAP);\n",
    "13. [Considerações Finais]();"
   ]
  },
  {
   "attachments": {},
   "cell_type": "markdown",
   "metadata": {},
   "source": [
    "---"
   ]
  },
  {
   "attachments": {},
   "cell_type": "markdown",
   "metadata": {},
   "source": [
    "## Entendimento do Problema de Negócio"
   ]
  },
  {
   "attachments": {},
   "cell_type": "markdown",
   "metadata": {},
   "source": [
    "## Pré-processamento, Limpeza e Padronização dos Dados"
   ]
  },
  {
   "attachments": {},
   "cell_type": "markdown",
   "metadata": {},
   "source": [
    "## Tratamento de Valores Faltantes"
   ]
  },
  {
   "attachments": {},
   "cell_type": "markdown",
   "metadata": {},
   "source": [
    "## Análise Exploratória"
   ]
  },
  {
   "attachments": {},
   "cell_type": "markdown",
   "metadata": {},
   "source": [
    "## Tratamento de *outliers*"
   ]
  },
  {
   "attachments": {},
   "cell_type": "markdown",
   "metadata": {},
   "source": [
    "## Engenharia de Features"
   ]
  },
  {
   "attachments": {},
   "cell_type": "markdown",
   "metadata": {},
   "source": [
    "## Seleção de Modelos"
   ]
  },
  {
   "attachments": {},
   "cell_type": "markdown",
   "metadata": {},
   "source": [
    "## Seleção de Features"
   ]
  },
  {
   "attachments": {},
   "cell_type": "markdown",
   "metadata": {},
   "source": [
    "## Tunagem de Hiperparâmetros"
   ]
  },
  {
   "attachments": {},
   "cell_type": "markdown",
   "metadata": {},
   "source": [
    "## Serialização do Modelo"
   ]
  },
  {
   "attachments": {},
   "cell_type": "markdown",
   "metadata": {},
   "source": [
    "## Ajuste de *threshold*"
   ]
  },
  {
   "attachments": {},
   "cell_type": "markdown",
   "metadata": {},
   "source": [
    "## Explicabilidade do Modelo"
   ]
  },
  {
   "attachments": {},
   "cell_type": "markdown",
   "metadata": {},
   "source": [
    "## Considerações Finais"
   ]
  }
 ],
 "metadata": {
  "language_info": {
   "name": "python"
  },
  "orig_nbformat": 4
 },
 "nbformat": 4,
 "nbformat_minor": 2
}
